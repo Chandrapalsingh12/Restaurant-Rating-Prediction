{
 "cells": [
  {
   "cell_type": "markdown",
   "id": "1d585920",
   "metadata": {},
   "source": [
    "# Import Packages"
   ]
  },
  {
   "cell_type": "code",
   "execution_count": 1,
   "id": "722181ca",
   "metadata": {},
   "outputs": [],
   "source": [
    "import pandas as pd\n",
    "import numpy as np\n",
    "import os\n",
    "from re import sub\n",
    "import re\n",
    "from warnings import filterwarnings\n",
    "filterwarnings(\"ignore\")"
   ]
  },
  {
   "cell_type": "code",
   "execution_count": 2,
   "id": "c89d7604",
   "metadata": {},
   "outputs": [],
   "source": [
    "df = pd.read_csv(\"D:DataSet/csvdata/zomato.csv\")"
   ]
  },
  {
   "cell_type": "markdown",
   "id": "66a15d87",
   "metadata": {},
   "source": [
    "Remove unnecessary Columns"
   ]
  },
  {
   "cell_type": "code",
   "execution_count": 3,
   "id": "b01fd875",
   "metadata": {},
   "outputs": [],
   "source": [
    "A = df.drop(labels=[\"url\",\"address\",\"name\",\"phone\",\"location\",\"menu_item\",\"listed_in(city)\",\"dish_liked\"],axis=1)"
   ]
  },
  {
   "cell_type": "code",
   "execution_count": 4,
   "id": "2f7a0439",
   "metadata": {},
   "outputs": [
    {
     "data": {
      "text/plain": [
       "online_order                      0\n",
       "book_table                        0\n",
       "rate                           7775\n",
       "votes                             0\n",
       "rest_type                       227\n",
       "cuisines                         45\n",
       "approx_cost(for two people)     346\n",
       "reviews_list                      0\n",
       "listed_in(type)                   0\n",
       "dtype: int64"
      ]
     },
     "execution_count": 4,
     "metadata": {},
     "output_type": "execute_result"
    }
   ],
   "source": [
    "A.isna().sum()"
   ]
  },
  {
   "cell_type": "markdown",
   "id": "6bae7a5a",
   "metadata": {},
   "source": [
    "# EDA"
   ]
  },
  {
   "cell_type": "code",
   "execution_count": 5,
   "id": "6ffa40e9",
   "metadata": {},
   "outputs": [],
   "source": [
    "A.rate = A.rate.apply(lambda x: str(x).split(\"/\")[0])"
   ]
  },
  {
   "cell_type": "code",
   "execution_count": 6,
   "id": "8c02bc67",
   "metadata": {},
   "outputs": [],
   "source": [
    "A.dropna(inplace=True)"
   ]
  },
  {
   "cell_type": "code",
   "execution_count": 7,
   "id": "18f563f0",
   "metadata": {},
   "outputs": [],
   "source": [
    "A.rate = A.rate.apply(lambda x: sub(\"[^0-9. ]\",\"0\",x)).astype(\"float\")"
   ]
  },
  {
   "cell_type": "code",
   "execution_count": 9,
   "id": "fef7277e",
   "metadata": {},
   "outputs": [],
   "source": [
    "k = A.reviews_list.apply(lambda x:sub(\"[()]\",\"\",x))"
   ]
  },
  {
   "cell_type": "code",
   "execution_count": 10,
   "id": "b15f2fa2",
   "metadata": {},
   "outputs": [],
   "source": [
    "rev_list = []"
   ]
  },
  {
   "cell_type": "code",
   "execution_count": 11,
   "id": "47700fd0",
   "metadata": {},
   "outputs": [],
   "source": [
    "for i in k:\n",
    "    c = i.split(\"/\")\n",
    "    s = sub(\"[^0-5.]\",\"\",i)\n",
    "    try:        \n",
    "        m = str(s).replace(\" \",\"\")[0]\n",
    "        rev_list.append(m)\n",
    "    except:\n",
    "        rev_list.append(0)\n"
   ]
  },
  {
   "cell_type": "code",
   "execution_count": 12,
   "id": "1e809713",
   "metadata": {},
   "outputs": [],
   "source": [
    "A[\"reviews\"] = rev_list"
   ]
  },
  {
   "cell_type": "code",
   "execution_count": 13,
   "id": "7c25725f",
   "metadata": {},
   "outputs": [],
   "source": [
    "A.drop(labels=[\"reviews_list\"],axis=1,inplace=True)"
   ]
  },
  {
   "cell_type": "code",
   "execution_count": 14,
   "id": "3ad219b4",
   "metadata": {},
   "outputs": [
    {
     "data": {
      "text/html": [
       "<div>\n",
       "<style scoped>\n",
       "    .dataframe tbody tr th:only-of-type {\n",
       "        vertical-align: middle;\n",
       "    }\n",
       "\n",
       "    .dataframe tbody tr th {\n",
       "        vertical-align: top;\n",
       "    }\n",
       "\n",
       "    .dataframe thead th {\n",
       "        text-align: right;\n",
       "    }\n",
       "</style>\n",
       "<table border=\"1\" class=\"dataframe\">\n",
       "  <thead>\n",
       "    <tr style=\"text-align: right;\">\n",
       "      <th></th>\n",
       "      <th>online_order</th>\n",
       "      <th>book_table</th>\n",
       "      <th>rate</th>\n",
       "      <th>votes</th>\n",
       "      <th>rest_type</th>\n",
       "      <th>cuisines</th>\n",
       "      <th>approx_cost(for two people)</th>\n",
       "      <th>listed_in(type)</th>\n",
       "      <th>reviews</th>\n",
       "    </tr>\n",
       "  </thead>\n",
       "  <tbody>\n",
       "    <tr>\n",
       "      <th>29310</th>\n",
       "      <td>Yes</td>\n",
       "      <td>No</td>\n",
       "      <td>4.4</td>\n",
       "      <td>949</td>\n",
       "      <td>Cafe</td>\n",
       "      <td>Cafe, European, Continental</td>\n",
       "      <td>900</td>\n",
       "      <td>Cafes</td>\n",
       "      <td>4</td>\n",
       "    </tr>\n",
       "    <tr>\n",
       "      <th>19661</th>\n",
       "      <td>Yes</td>\n",
       "      <td>Yes</td>\n",
       "      <td>4.2</td>\n",
       "      <td>543</td>\n",
       "      <td>Casual Dining, Pub</td>\n",
       "      <td>North Indian, Chinese, Pizza</td>\n",
       "      <td>1,000</td>\n",
       "      <td>Delivery</td>\n",
       "      <td>2</td>\n",
       "    </tr>\n",
       "    <tr>\n",
       "      <th>18411</th>\n",
       "      <td>No</td>\n",
       "      <td>No</td>\n",
       "      <td>3.1</td>\n",
       "      <td>63</td>\n",
       "      <td>Sweet Shop</td>\n",
       "      <td>Mithai, Street Food</td>\n",
       "      <td>150</td>\n",
       "      <td>Delivery</td>\n",
       "      <td>3</td>\n",
       "    </tr>\n",
       "    <tr>\n",
       "      <th>24918</th>\n",
       "      <td>Yes</td>\n",
       "      <td>No</td>\n",
       "      <td>3.9</td>\n",
       "      <td>24</td>\n",
       "      <td>Quick Bites</td>\n",
       "      <td>South Indian, North Indian, Chinese</td>\n",
       "      <td>300</td>\n",
       "      <td>Dine-out</td>\n",
       "      <td>1</td>\n",
       "    </tr>\n",
       "    <tr>\n",
       "      <th>33967</th>\n",
       "      <td>Yes</td>\n",
       "      <td>No</td>\n",
       "      <td>4.4</td>\n",
       "      <td>2873</td>\n",
       "      <td>Cafe</td>\n",
       "      <td>Cafe, American, Burger, Sandwich, Beverages</td>\n",
       "      <td>600</td>\n",
       "      <td>Dine-out</td>\n",
       "      <td>3</td>\n",
       "    </tr>\n",
       "  </tbody>\n",
       "</table>\n",
       "</div>"
      ],
      "text/plain": [
       "      online_order book_table  rate  votes           rest_type  \\\n",
       "29310          Yes         No   4.4    949                Cafe   \n",
       "19661          Yes        Yes   4.2    543  Casual Dining, Pub   \n",
       "18411           No         No   3.1     63          Sweet Shop   \n",
       "24918          Yes         No   3.9     24         Quick Bites   \n",
       "33967          Yes         No   4.4   2873                Cafe   \n",
       "\n",
       "                                          cuisines  \\\n",
       "29310                  Cafe, European, Continental   \n",
       "19661                 North Indian, Chinese, Pizza   \n",
       "18411                          Mithai, Street Food   \n",
       "24918          South Indian, North Indian, Chinese   \n",
       "33967  Cafe, American, Burger, Sandwich, Beverages   \n",
       "\n",
       "      approx_cost(for two people) listed_in(type) reviews  \n",
       "29310                         900           Cafes       4  \n",
       "19661                       1,000        Delivery       2  \n",
       "18411                         150        Delivery       3  \n",
       "24918                         300        Dine-out       1  \n",
       "33967                         600        Dine-out       3  "
      ]
     },
     "execution_count": 14,
     "metadata": {},
     "output_type": "execute_result"
    }
   ],
   "source": [
    "A.sample(5)"
   ]
  },
  {
   "cell_type": "code",
   "execution_count": 15,
   "id": "6521afa7",
   "metadata": {},
   "outputs": [],
   "source": [
    "A[\"reviews\"] = A[\"reviews\"].astype(\"int\")"
   ]
  },
  {
   "cell_type": "code",
   "execution_count": 16,
   "id": "9bcc16f7",
   "metadata": {},
   "outputs": [],
   "source": [
    "A[\"approx_cost(for two people)\"] = A[\"approx_cost(for two people)\"].apply(lambda x: sub(\"[^0-9]\",\"\",x)).astype(\"int\")"
   ]
  },
  {
   "cell_type": "code",
   "execution_count": 17,
   "id": "fd840d5e",
   "metadata": {},
   "outputs": [
    {
     "data": {
      "text/html": [
       "<div>\n",
       "<style scoped>\n",
       "    .dataframe tbody tr th:only-of-type {\n",
       "        vertical-align: middle;\n",
       "    }\n",
       "\n",
       "    .dataframe tbody tr th {\n",
       "        vertical-align: top;\n",
       "    }\n",
       "\n",
       "    .dataframe thead th {\n",
       "        text-align: right;\n",
       "    }\n",
       "</style>\n",
       "<table border=\"1\" class=\"dataframe\">\n",
       "  <thead>\n",
       "    <tr style=\"text-align: right;\">\n",
       "      <th></th>\n",
       "      <th>online_order</th>\n",
       "      <th>book_table</th>\n",
       "      <th>rate</th>\n",
       "      <th>votes</th>\n",
       "      <th>rest_type</th>\n",
       "      <th>cuisines</th>\n",
       "      <th>approx_cost(for two people)</th>\n",
       "      <th>listed_in(type)</th>\n",
       "      <th>reviews</th>\n",
       "    </tr>\n",
       "  </thead>\n",
       "  <tbody>\n",
       "    <tr>\n",
       "      <th>18928</th>\n",
       "      <td>No</td>\n",
       "      <td>No</td>\n",
       "      <td>3.6</td>\n",
       "      <td>12</td>\n",
       "      <td>Quick Bites</td>\n",
       "      <td>South Indian, North Indian</td>\n",
       "      <td>300</td>\n",
       "      <td>Dine-out</td>\n",
       "      <td>2</td>\n",
       "    </tr>\n",
       "    <tr>\n",
       "      <th>14488</th>\n",
       "      <td>No</td>\n",
       "      <td>No</td>\n",
       "      <td>3.3</td>\n",
       "      <td>4</td>\n",
       "      <td>Quick Bites</td>\n",
       "      <td>North Indian, Chinese</td>\n",
       "      <td>200</td>\n",
       "      <td>Dine-out</td>\n",
       "      <td>5</td>\n",
       "    </tr>\n",
       "    <tr>\n",
       "      <th>48540</th>\n",
       "      <td>No</td>\n",
       "      <td>No</td>\n",
       "      <td>3.0</td>\n",
       "      <td>22</td>\n",
       "      <td>Quick Bites</td>\n",
       "      <td>Street Food, Rolls</td>\n",
       "      <td>200</td>\n",
       "      <td>Dine-out</td>\n",
       "      <td>1</td>\n",
       "    </tr>\n",
       "    <tr>\n",
       "      <th>47723</th>\n",
       "      <td>No</td>\n",
       "      <td>No</td>\n",
       "      <td>3.5</td>\n",
       "      <td>14</td>\n",
       "      <td>Quick Bites</td>\n",
       "      <td>Desserts, Fast Food</td>\n",
       "      <td>250</td>\n",
       "      <td>Delivery</td>\n",
       "      <td>1</td>\n",
       "    </tr>\n",
       "    <tr>\n",
       "      <th>18195</th>\n",
       "      <td>Yes</td>\n",
       "      <td>Yes</td>\n",
       "      <td>4.1</td>\n",
       "      <td>2075</td>\n",
       "      <td>Casual Dining</td>\n",
       "      <td>Rajasthani</td>\n",
       "      <td>800</td>\n",
       "      <td>Delivery</td>\n",
       "      <td>4</td>\n",
       "    </tr>\n",
       "  </tbody>\n",
       "</table>\n",
       "</div>"
      ],
      "text/plain": [
       "      online_order book_table  rate  votes      rest_type  \\\n",
       "18928           No         No   3.6     12    Quick Bites   \n",
       "14488           No         No   3.3      4    Quick Bites   \n",
       "48540           No         No   3.0     22    Quick Bites   \n",
       "47723           No         No   3.5     14    Quick Bites   \n",
       "18195          Yes        Yes   4.1   2075  Casual Dining   \n",
       "\n",
       "                         cuisines  approx_cost(for two people)  \\\n",
       "18928  South Indian, North Indian                          300   \n",
       "14488       North Indian, Chinese                          200   \n",
       "48540          Street Food, Rolls                          200   \n",
       "47723         Desserts, Fast Food                          250   \n",
       "18195                  Rajasthani                          800   \n",
       "\n",
       "      listed_in(type)  reviews  \n",
       "18928        Dine-out        2  \n",
       "14488        Dine-out        5  \n",
       "48540        Dine-out        1  \n",
       "47723        Delivery        1  \n",
       "18195        Delivery        4  "
      ]
     },
     "execution_count": 17,
     "metadata": {},
     "output_type": "execute_result"
    }
   ],
   "source": [
    "A.sample(5)"
   ]
  },
  {
   "cell_type": "markdown",
   "id": "a7bc81b6",
   "metadata": {},
   "source": [
    "# Preprocessing"
   ]
  },
  {
   "cell_type": "code",
   "execution_count": 18,
   "id": "81141ae3",
   "metadata": {},
   "outputs": [],
   "source": [
    "from sklearn.preprocessing import LabelEncoder\n",
    "from sklearn.preprocessing import OneHotEncoder,StandardScaler\n",
    "le = LabelEncoder()"
   ]
  },
  {
   "cell_type": "code",
   "execution_count": 19,
   "id": "920e7c55",
   "metadata": {},
   "outputs": [],
   "source": [
    "A[\"online_order\"] = le.fit_transform(A.online_order)"
   ]
  },
  {
   "cell_type": "code",
   "execution_count": 20,
   "id": "848a8e45",
   "metadata": {},
   "outputs": [],
   "source": [
    "A[\"book_table\"] = le.fit_transform(A.book_table)"
   ]
  },
  {
   "cell_type": "code",
   "execution_count": 21,
   "id": "3b9f23b0",
   "metadata": {},
   "outputs": [],
   "source": [
    "Y = A.rate"
   ]
  },
  {
   "cell_type": "code",
   "execution_count": 22,
   "id": "89c62034",
   "metadata": {},
   "outputs": [],
   "source": [
    "X = A.drop(labels=[\"rate\"],axis=1)"
   ]
  },
  {
   "cell_type": "code",
   "execution_count": 23,
   "id": "4a355bfc",
   "metadata": {},
   "outputs": [
    {
     "data": {
      "text/html": [
       "<div>\n",
       "<style scoped>\n",
       "    .dataframe tbody tr th:only-of-type {\n",
       "        vertical-align: middle;\n",
       "    }\n",
       "\n",
       "    .dataframe tbody tr th {\n",
       "        vertical-align: top;\n",
       "    }\n",
       "\n",
       "    .dataframe thead th {\n",
       "        text-align: right;\n",
       "    }\n",
       "</style>\n",
       "<table border=\"1\" class=\"dataframe\">\n",
       "  <thead>\n",
       "    <tr style=\"text-align: right;\">\n",
       "      <th></th>\n",
       "      <th>online_order</th>\n",
       "      <th>book_table</th>\n",
       "      <th>votes</th>\n",
       "      <th>rest_type</th>\n",
       "      <th>cuisines</th>\n",
       "      <th>approx_cost(for two people)</th>\n",
       "      <th>listed_in(type)</th>\n",
       "      <th>reviews</th>\n",
       "    </tr>\n",
       "  </thead>\n",
       "  <tbody>\n",
       "    <tr>\n",
       "      <th>0</th>\n",
       "      <td>1</td>\n",
       "      <td>1</td>\n",
       "      <td>775</td>\n",
       "      <td>Casual Dining</td>\n",
       "      <td>North Indian, Mughlai, Chinese</td>\n",
       "      <td>800</td>\n",
       "      <td>Buffet</td>\n",
       "      <td>4</td>\n",
       "    </tr>\n",
       "  </tbody>\n",
       "</table>\n",
       "</div>"
      ],
      "text/plain": [
       "   online_order  book_table  votes      rest_type  \\\n",
       "0             1           1    775  Casual Dining   \n",
       "\n",
       "                         cuisines  approx_cost(for two people)  \\\n",
       "0  North Indian, Mughlai, Chinese                          800   \n",
       "\n",
       "  listed_in(type)  reviews  \n",
       "0          Buffet        4  "
      ]
     },
     "execution_count": 23,
     "metadata": {},
     "output_type": "execute_result"
    }
   ],
   "source": [
    "X.head(1)"
   ]
  },
  {
   "cell_type": "code",
   "execution_count": 49,
   "id": "6d7092b4",
   "metadata": {},
   "outputs": [],
   "source": [
    "ss = StandardScaler()"
   ]
  },
  {
   "cell_type": "markdown",
   "id": "4b4b6bfb",
   "metadata": {},
   "source": [
    "# Split Data"
   ]
  },
  {
   "cell_type": "code",
   "execution_count": 50,
   "id": "d8d58abc",
   "metadata": {},
   "outputs": [],
   "source": [
    "from sklearn.model_selection import train_test_split\n",
    "xtrain,xtest,ytrain,ytest = train_test_split(X,Y,test_size=0.2,random_state=23)"
   ]
  },
  {
   "cell_type": "code",
   "execution_count": 51,
   "id": "f7b2c85a",
   "metadata": {},
   "outputs": [],
   "source": [
    "ohe = OneHotEncoder(sparse=False,handle_unknown=\"ignore\")"
   ]
  },
  {
   "cell_type": "code",
   "execution_count": 52,
   "id": "acc424d4",
   "metadata": {},
   "outputs": [],
   "source": [
    "xtrain = ohe.fit_transform(xtrain)\n",
    "xtest = ohe.transform(xtest)"
   ]
  },
  {
   "cell_type": "markdown",
   "id": "6f19b0be",
   "metadata": {},
   "source": [
    "# Traning Model"
   ]
  },
  {
   "cell_type": "code",
   "execution_count": 112,
   "id": "3c3d5358",
   "metadata": {},
   "outputs": [],
   "source": [
    "from sklearn.linear_model import LinearRegression,Ridge,Lasso\n",
    "from sklearn.ensemble import RandomForestRegressor"
   ]
  },
  {
   "cell_type": "code",
   "execution_count": 116,
   "id": "38d6391d",
   "metadata": {},
   "outputs": [],
   "source": [
    "rig = Ridge(alpha=0.001)"
   ]
  },
  {
   "cell_type": "code",
   "execution_count": 117,
   "id": "7cf2bb88",
   "metadata": {},
   "outputs": [],
   "source": [
    "model = rig.fit(xtrain,ytrain)"
   ]
  },
  {
   "cell_type": "code",
   "execution_count": 126,
   "id": "1f457c83",
   "metadata": {},
   "outputs": [],
   "source": [
    "rfc = RandomForestRegressor(n_estimators=100)"
   ]
  },
  {
   "cell_type": "code",
   "execution_count": 127,
   "id": "e49fdc72",
   "metadata": {},
   "outputs": [],
   "source": [
    "model_rf = rfc.fit(xtrain,ytrain)"
   ]
  },
  {
   "cell_type": "code",
   "execution_count": 2,
   "id": "a3ce799e",
   "metadata": {},
   "outputs": [],
   "source": [
    "from sklearn.metrics import r2_score,mean_absolute_error\n",
    "def model_pred(model,xtrain,xtest,ytrain,ytest):\n",
    "    m1_tr = model.predict(xtrain)\n",
    "    m1_ts = model.predict(xtest)\n",
    "\n",
    "    r2_tr = r2_score(ytrain,m1_tr)\n",
    "    r2_ts = r2_score(ytest,m1_ts)\n",
    "\n",
    "    err_tr = mean_absolute_error(ytrain,m1_tr)\n",
    "    err_ts = mean_absolute_error(ytest,m1_ts)\n",
    "\n",
    "    print(f\"R2 score of Traning Data is {r2_tr} \\nR2 score of Testing Data is {r2_ts}\")\n",
    "    print(\"------------------------Mean Absolute Error------------------------------\")\n",
    "    print(f\"Error of Traning Data is {err_tr} \\nError of Testing Data is {err_ts}\")\n"
   ]
  },
  {
   "cell_type": "code",
   "execution_count": 120,
   "id": "3a25bed1",
   "metadata": {},
   "outputs": [
    {
     "name": "stdout",
     "output_type": "stream",
     "text": [
      "R2 score of Traning Data is 0.9962830001519148 \n",
      "R2 score of Testing Data is 0.982105191342106\n",
      "------------------------Mean Absolute Error------------------------------\n",
      "Error of Traning Data is 0.0258217367525162 \n",
      "Error of Testing Data is 0.06462039771621898\n"
     ]
    }
   ],
   "source": [
    "model_pred(model_rf,xtrain,xtest,ytrain,ytest)"
   ]
  },
  {
   "cell_type": "code",
   "execution_count": 125,
   "id": "f2f99816",
   "metadata": {},
   "outputs": [
    {
     "name": "stdout",
     "output_type": "stream",
     "text": [
      "R2 score of Traning Data is 0.9964474216894094 \n",
      "R2 score of Testing Data is 0.983119956374085\n",
      "------------------------Mean Absolute Error------------------------------\n",
      "Error of Traning Data is 0.025135416955205582 \n",
      "Error of Testing Data is 0.06280861690552342\n"
     ]
    }
   ],
   "source": [
    "model_pred(model_rf,xtrain,xtest,ytrain,ytest)"
   ]
  },
  {
   "cell_type": "code",
   "execution_count": 128,
   "id": "891473c7",
   "metadata": {},
   "outputs": [
    {
     "name": "stdout",
     "output_type": "stream",
     "text": [
      "R2 score of Traning Data is 0.9965628014262243 \n",
      "R2 score of Testing Data is 0.9830636660482418\n",
      "------------------------Mean Absolute Error------------------------------\n",
      "Error of Traning Data is 0.024899432028996894 \n",
      "Error of Testing Data is 0.0627313661772686\n"
     ]
    }
   ],
   "source": [
    "model_pred(model_rf,xtrain,xtest,ytrain,ytest)"
   ]
  },
  {
   "cell_type": "markdown",
   "id": "f0702d04",
   "metadata": {},
   "source": [
    "# Export Model Using Pickle"
   ]
  },
  {
   "cell_type": "code",
   "execution_count": 121,
   "id": "9b40c589",
   "metadata": {},
   "outputs": [],
   "source": [
    "import pickle"
   ]
  },
  {
   "cell_type": "code",
   "execution_count": 129,
   "id": "60af4cc5",
   "metadata": {},
   "outputs": [],
   "source": [
    "pickle.dump(X,open(\"data.pkl\",\"wb\"))\n",
    "pickle.dump(model_rf,open(\"model.pkl\",\"wb\"))\n",
    "pickle.dump(ohe,open(\"ohe.pkl\",\"wb\"))"
   ]
  }
 ],
 "metadata": {
  "kernelspec": {
   "display_name": "Python 3 (ipykernel)",
   "language": "python",
   "name": "python3"
  },
  "language_info": {
   "codemirror_mode": {
    "name": "ipython",
    "version": 3
   },
   "file_extension": ".py",
   "mimetype": "text/x-python",
   "name": "python",
   "nbconvert_exporter": "python",
   "pygments_lexer": "ipython3",
   "version": "3.10.5"
  }
 },
 "nbformat": 4,
 "nbformat_minor": 5
}
